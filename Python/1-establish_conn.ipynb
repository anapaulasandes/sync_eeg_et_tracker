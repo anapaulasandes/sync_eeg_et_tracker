{
 "cells": [
  {
   "cell_type": "code",
   "execution_count": 1,
   "metadata": {},
   "outputs": [],
   "source": [
    "import pandas as pd\n",
    "import numpy as np\n",
    "import serial\n",
    "import time\n",
    "import sys\n",
    "from threading import Thread"
   ]
  },
  {
   "cell_type": "code",
   "execution_count": 2,
   "metadata": {},
   "outputs": [
    {
     "ename": "ModuleNotFoundError",
     "evalue": "No module named 'src.Neuropy'",
     "output_type": "error",
     "traceback": [
      "\u001b[1;31m---------------------------------------------------------------------------\u001b[0m",
      "\u001b[1;31mModuleNotFoundError\u001b[0m                       Traceback (most recent call last)",
      "\u001b[1;32mc:\\Users\\anapa\\Documents\\Mestrado\\Codigo\\sync_eeg_et_tracker\\Python\\1-establish_conn.ipynb Cell 2'\u001b[0m in \u001b[0;36m<cell line: 1>\u001b[1;34m()\u001b[0m\n\u001b[1;32m----> <a href='vscode-notebook-cell:/c%3A/Users/anapa/Documents/Mestrado/Codigo/sync_eeg_et_tracker/Python/1-establish_conn.ipynb#ch0000001?line=0'>1</a>\u001b[0m \u001b[39mfrom\u001b[39;00m \u001b[39msrc\u001b[39;00m\u001b[39m.\u001b[39;00m\u001b[39mNeuropy\u001b[39;00m \u001b[39mimport\u001b[39;00m \u001b[39m*\u001b[39m\n",
      "\u001b[1;31mModuleNotFoundError\u001b[0m: No module named 'src.Neuropy'"
     ]
    }
   ],
   "source": [
    "from src.Neuropy import *"
   ]
  },
  {
   "cell_type": "code",
   "execution_count": 11,
   "metadata": {},
   "outputs": [],
   "source": [
    "object1 = NeuroPy(\"COM3\",57600)"
   ]
  },
  {
   "cell_type": "code",
   "execution_count": 12,
   "metadata": {},
   "outputs": [
    {
     "ename": "SyntaxError",
     "evalue": "invalid syntax (3845688346.py, line 28)",
     "output_type": "error",
     "traceback": [
      "\u001b[1;36m  Input \u001b[1;32mIn [12]\u001b[1;36m\u001b[0m\n\u001b[1;33m    for i in len(data)\u001b[0m\n\u001b[1;37m                      ^\u001b[0m\n\u001b[1;31mSyntaxError\u001b[0m\u001b[1;31m:\u001b[0m invalid syntax\n"
     ]
    }
   ],
   "source": [
    "def init_devices(neuro_object):\n",
    "    #starting time\n",
    "    start = time.time()\n",
    "\n",
    "    #starting mindwave\n",
    "    neuro_object.start()\n",
    "\n",
    "    #creating empty dictionary\n",
    "    my_dict = {}\n",
    "\n",
    "    #listas\n",
    "    time_list = []\n",
    "    attention_list = []\n",
    "    meditation_list = []\n",
    "    delta_list = []\n",
    "    theta_list = []\n",
    "    lowA = []\n",
    "    highA = []\n",
    "    lowB = []\n",
    "    hightB = []\n",
    "    lowG = []\n",
    "    midG = []\n",
    "    position_x= []\n",
    "    position_y = []\n",
    "\n",
    "    i = 0\n",
    "\n",
    "\n",
    "    while time.time() - start < 5:\n",
    "        #Neuro properties\n",
    "        time_list.append(time.time())\n",
    "        attention_list.append(neuro_object.attention)\n",
    "        meditation_list.append(neuro_object.meditation)\n",
    "        delta_list.append(neuro_object.delta)\n",
    "        theta_list.append(neuro_object.theta)\n",
    "        lowA.append(neuro_object.lowAlpha)\n",
    "        highA.append(neuro_object.highAlpha)\n",
    "        lowB.append(neuro_object.lowBeta)\n",
    "        lowG.append(neuro_object.lowGamma)\n",
    "        midG.append(neuro_object.midGamma)\n",
    "        position_x.append(gaze_object.get_gaze_position()[0])\n",
    "        position_y.append(gaze_object.get_gaze_position()[1])\n",
    "\n",
    "        time.sleep(0.1) # O equivalente aqui seria provavelmente nao colocar o sleep\n",
    "\n",
    "    #saving values\n",
    "    my_dict['time'] =  time_list\n",
    "    my_dict['attention'] = attention_list\n",
    "    my_dict['meditation'] = meditation_list\n",
    "    my_dict['delta'] = delta_list\n",
    "    my_dict['theta'] = theta_list\n",
    "    my_dict['lowAlpha'] = lowA\n",
    "    my_dict['highAlpha'] = highA\n",
    "    my_dict['lowBeta'] = lowB\n",
    "    my_dict['highBeta'] = hightB\n",
    "    my_dict['lowGamma'] = lowG\n",
    "    my_dict['midGamma']= midG\n",
    "\n",
    "    #Gaze Position\n",
    "    #my_dict['x'] = position_x\n",
    "    #my_dict['y'] = position_y\n",
    "\n",
    "    #stop mindwave\n",
    "    neuro_object.stop()\n",
    "\n",
    "    return my_dict"
   ]
  },
  {
   "cell_type": "code",
   "execution_count": null,
   "metadata": {},
   "outputs": [],
   "source": []
  },
  {
   "cell_type": "code",
   "execution_count": null,
   "metadata": {},
   "outputs": [],
   "source": []
  },
  {
   "cell_type": "code",
   "execution_count": null,
   "metadata": {},
   "outputs": [],
   "source": []
  },
  {
   "cell_type": "code",
   "execution_count": null,
   "metadata": {},
   "outputs": [],
   "source": []
  }
 ],
 "metadata": {
  "interpreter": {
   "hash": "ebc3d03a84f5c36d78e253c47a51e3bd98edf379607c57243ed1406a897ecaf2"
  },
  "kernelspec": {
   "display_name": "Python 3.9.12 ('gp3')",
   "language": "python",
   "name": "python3"
  },
  "language_info": {
   "codemirror_mode": {
    "name": "ipython",
    "version": 3
   },
   "file_extension": ".py",
   "mimetype": "text/x-python",
   "name": "python",
   "nbconvert_exporter": "python",
   "pygments_lexer": "ipython3",
   "version": "3.9.12"
  },
  "orig_nbformat": 4
 },
 "nbformat": 4,
 "nbformat_minor": 2
}
